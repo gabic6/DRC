{
 "cells": [
  {
   "cell_type": "code",
   "execution_count": 1,
   "metadata": {},
   "outputs": [],
   "source": [
    "import pymysql\n",
    "import pandas as pd\n",
    "import numpy as np\n",
    "import seaborn as sns\n",
    "import matplotlib.pyplot as plt\n",
    "import scikit_posthocs as sp\n",
    "import scipy.stats as stats\n",
    "import csv\n",
    "import os\n",
    "\n",
    "from statsmodels.stats.multicomp import MultiComparison"
   ]
  },
  {
   "cell_type": "code",
   "execution_count": 2,
   "metadata": {},
   "outputs": [],
   "source": [
    "con = pymysql.connect(host=\"localhost\", user=\"gabic\", passwd=\"1234\", db=\"doenca_renal_cronica\")\n",
    "con.select_db('doenca_renal_cronica')\n",
    "cursor = con.cursor()  \n",
    "cursor.connection.autocommit(True)"
   ]
  },
  {
   "cell_type": "code",
   "execution_count": 3,
   "metadata": {},
   "outputs": [],
   "source": [
    "#criando os dataframes por tabela \n",
    "dados_consulta = pd.read_sql('SELECT * FROM doenca_renal_cronica.dados_consulta',con=con)\n",
    "cidade = pd.read_sql('SELECT * FROM doenca_renal_cronica.cidade',con=con)\n",
    "ubs = pd.read_sql('SELECT * FROM doenca_renal_cronica.ubs',con=con)\n",
    "aval_funcao_renal = pd.read_sql('SELECT * FROM doenca_renal_cronica.aval_funcao_renal',con=con)\n",
    "consulta_has = pd.read_sql('SELECT * FROM doenca_renal_cronica.consulta_has',con=con)\n",
    "consulta_drc = pd.read_sql('SELECT * FROM doenca_renal_cronica.consulta_drc',con=con)\n",
    "consulta_dm = pd.read_sql('SELECT * FROM doenca_renal_cronica.consulta_dm',con=con)\n",
    "calculo_tfg = pd.read_sql('SELECT * FROM doenca_renal_cronica.calculo_tfg',con=con)\n",
    "preparacao_trs = pd.read_sql('SELECT * FROM doenca_renal_cronica.preparacao_trs',con=con)\n",
    "raca = pd.read_sql('SELECT * FROM doenca_renal_cronica.raca',con=con)\n",
    "instrucao = pd.read_sql('SELECT * FROM doenca_renal_cronica.instrucao',con=con)\n",
    "paciente = pd.read_sql('SELECT * FROM doenca_renal_cronica.paciente',con=con)\n",
    "exame_fisico = pd.read_sql('SELECT * FROM doenca_renal_cronica.exame_fisico',con=con)\n",
    "avaliacao_tratamento = pd.read_sql('SELECT * FROM doenca_renal_cronica.avaliacao_tratamento',con=con)\n",
    "medicamento = pd.read_sql('SELECT * FROM doenca_renal_cronica.medicamento',con=con)\n",
    "complicacao_funcao_renal = pd.read_sql('SELECT * FROM doenca_renal_cronica.complicacao_funcao_renal',con=con)\n",
    "\n",
    "#dicionario com todas tabelas\n",
    "dic = {'dados_consulta':dados_consulta,'cidade':cidade,'ubs':ubs,'aval_funcao_renal':aval_funcao_renal,\n",
    "       'consulta_has':consulta_has,'consulta_drc':consulta_drc,'consulta_dm':consulta_dm,'calculo_tfg':calculo_tfg,\n",
    "       'preparacao_trs':preparacao_trs,'raca':raca,'instrucao':instrucao,'paciente':paciente,'exame_fisico':exame_fisico,\n",
    "       'avaliacao_tratamento':avaliacao_tratamento,'medicamento':medicamento,'complicacao_funcao_renal':complicacao_funcao_renal\n",
    "      }"
   ]
  },
  {
   "cell_type": "code",
   "execution_count": 4,
   "metadata": {},
   "outputs": [
    {
     "name": "stderr",
     "output_type": "stream",
     "text": [
      "/home/gabic9814/anaconda3/lib/python3.7/site-packages/ipykernel_launcher.py:10: SettingWithCopyWarning: \n",
      "A value is trying to be set on a copy of a slice from a DataFrame\n",
      "\n",
      "See the caveats in the documentation: http://pandas.pydata.org/pandas-docs/stable/indexing.html#indexing-view-versus-copy\n",
      "  # Remove the CWD from sys.path while we load stuff.\n"
     ]
    }
   ],
   "source": [
    "correto={}\n",
    "meses = ['jan','fev','mar','abr','mai','jun','jul','ago','set','out','nov','dez']\n",
    "for ind in range(len(dic['aval_funcao_renal']['id_afr'])):\n",
    "    if dic['paciente']['data_nascimento'][ind]!='0.0':\n",
    "        data_nascimento = dic['paciente']['data_nascimento'][ind].split('/')\n",
    "        for i in range(len(meses)):\n",
    "            if meses[i]==data_nascimento[1]:\n",
    "                tam = len(meses[0:i])\n",
    "        correto = str(1900+int(data_nascimento[2]))+'-'+str(tam+1)+'-'+data_nascimento[0]\n",
    "        dic['paciente']['data_nascimento'][ind] = pd.to_datetime(correto)"
   ]
  },
  {
   "cell_type": "code",
   "execution_count": 5,
   "metadata": {},
   "outputs": [],
   "source": [
    "#substituindo os valores para Nan \n",
    "for tabela in dic:\n",
    "    for coluna in dic[tabela].keys():\n",
    "        dic[tabela][coluna]=dic[tabela][coluna].replace([0,'0','0.0',''], np.nan)"
   ]
  },
  {
   "cell_type": "code",
   "execution_count": 6,
   "metadata": {},
   "outputs": [],
   "source": [
    "for tabela in dic:\n",
    "    for coluna in dic[tabela].keys():\n",
    "        i_split = coluna.split('_')\n",
    "        if i_split[0]=='id':\n",
    "            dic[tabela]=dic[tabela].drop(columns=[coluna], errors='ignore')\n",
    "        if i_split[0]=='dt':\n",
    "            dic[tabela]=dic[tabela].drop(columns=[coluna], errors='ignore')\n",
    "        if i_split[0]=='total':\n",
    "            dic[tabela]=dic[tabela].drop(columns=[coluna], errors='ignore')"
   ]
  },
  {
   "cell_type": "code",
   "execution_count": 7,
   "metadata": {
    "scrolled": true
   },
   "outputs": [],
   "source": [
    "#substituindo as string por int\n",
    "#3a == 31\n",
    "#3b == 32\n",
    "dic['dados_consulta']['estagioI']= dic['dados_consulta']['estagioI'].replace('1',1)\n",
    "dic['dados_consulta']['estagioI']= dic['dados_consulta']['estagioI'].replace('2',2)\n",
    "dic['dados_consulta']['estagioI']= dic['dados_consulta']['estagioI'].replace('3a',31)\n",
    "dic['dados_consulta']['estagioI']= dic['dados_consulta']['estagioI'].replace('3b',32)\n",
    "dic['dados_consulta']['estagioI']= dic['dados_consulta']['estagioI'].replace('4',4)\n",
    "dic['dados_consulta']['estagioI']= dic['dados_consulta']['estagioI'].replace('5',5)\n",
    "\n",
    "dic['dados_consulta']['estagioF']= dic['dados_consulta']['estagioF'].replace('1',1)\n",
    "dic['dados_consulta']['estagioF']= dic['dados_consulta']['estagioF'].replace('2',2)\n",
    "dic['dados_consulta']['estagioF']= dic['dados_consulta']['estagioF'].replace('3a',31)\n",
    "dic['dados_consulta']['estagioF']= dic['dados_consulta']['estagioF'].replace('3b',32)\n",
    "dic['dados_consulta']['estagioF']= dic['dados_consulta']['estagioF'].replace('4',4)\n",
    "dic['dados_consulta']['estagioF']= dic['dados_consulta']['estagioF'].replace('5',5)"
   ]
  },
  {
   "cell_type": "code",
   "execution_count": 8,
   "metadata": {},
   "outputs": [
    {
     "data": {
      "image/png": "[encoded data removed]",
      "text/plain": [
       "<Figure size 432x288 with 1 Axes>"
      ]
     },
     "metadata": {
      "needs_background": "light"
     },
     "output_type": "display_data"
    }
   ],
   "source": [
    "#estagioI quantidade de cada tipo de estagio\n",
    "# os.mkdir('/home/gabic9814/git/DRC/count')\n",
    "sns.countplot(x='estagioI', data= dic['dados_consulta'])\n",
    "plt.savefig(\"count/count_estagioI\")"
   ]
  },
  {
   "cell_type": "code",
   "execution_count": 9,
   "metadata": {},
   "outputs": [
    {
     "data": {
      "image/png": "[encoded data removed]",
      "text/plain": [
       "<Figure size 432x288 with 1 Axes>"
      ]
     },
     "metadata": {
      "needs_background": "light"
     },
     "output_type": "display_data"
    }
   ],
   "source": [
    "sns.countplot(x='estagioI_alb', data= dic['dados_consulta'])\n",
    "plt.savefig(\"count/count_estagioI_alb\")"
   ]
  },
  {
   "cell_type": "code",
   "execution_count": 10,
   "metadata": {},
   "outputs": [
    {
     "data": {
      "image/png": "[encoded data removed]",
      "text/plain": [
       "<Figure size 432x288 with 1 Axes>"
      ]
     },
     "metadata": {
      "needs_background": "light"
     },
     "output_type": "display_data"
    }
   ],
   "source": [
    "sns.countplot(x='estagioF', data= dic['dados_consulta'])\n",
    "plt.savefig(\"count/count_estagioF\")"
   ]
  },
  {
   "cell_type": "code",
   "execution_count": 11,
   "metadata": {},
   "outputs": [
    {
     "data": {
      "image/png": "[encoded data removed]",
      "text/plain": [
       "<Figure size 432x288 with 1 Axes>"
      ]
     },
     "metadata": {
      "needs_background": "light"
     },
     "output_type": "display_data"
    }
   ],
   "source": [
    "sns.countplot(x='estagioF_alb', data= dic['dados_consulta'])\n",
    "plt.savefig(\"count/count_estagioF_alb\")"
   ]
  },
  {
   "cell_type": "code",
   "execution_count": null,
   "metadata": {},
   "outputs": [],
   "source": []
  }
 ],
 "metadata": {
  "kernelspec": {
   "display_name": "Python 3",
   "language": "python",
   "name": "python3"
  },
  "language_info": {
   "codemirror_mode": {
    "name": "ipython",
    "version": 3
   },
   "file_extension": ".py",
   "mimetype": "text/x-python",
   "name": "python",
   "nbconvert_exporter": "python",
   "pygments_lexer": "ipython3",
   "version": "3.7.3"
  }
 },
 "nbformat": 4,
 "nbformat_minor": 2
}
