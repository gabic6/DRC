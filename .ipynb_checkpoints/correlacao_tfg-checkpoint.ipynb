{
 "cells": [
  {
   "cell_type": "code",
   "execution_count": 9,
   "metadata": {},
   "outputs": [],
   "source": [
    "import pymysql\n",
    "import pandas as pd\n",
    "import numpy as np\n",
    "import seaborn as sns\n",
    "import matplotlib.pyplot as plt\n",
    "import scikit_posthocs as sp\n",
    "import scipy.stats as stats\n",
    "import csv\n",
    "import matplotlib.colors as mcolors\n",
    "import os\n",
    "\n",
    "from statsmodels.stats.multicomp import MultiComparison\n"
   ]
  },
  {
   "cell_type": "code",
   "execution_count": 10,
   "metadata": {},
   "outputs": [
    {
     "name": "stderr",
     "output_type": "stream",
     "text": [
      "/home/gabic9814/anaconda3/lib/python3.7/site-packages/IPython/core/interactiveshell.py:3057: DtypeWarning: Columns (7,15,74,86,128,166,169,170,173,174,177,178,181,184,185,192,196,200,204,237,245,246) have mixed types. Specify dtype option on import or set low_memory=False.\n",
      "  interactivity=interactivity, compiler=compiler, result=result)\n"
     ]
    }
   ],
   "source": [
    "con = pymysql.connect(host=\"localhost\", user=\"gabic\", passwd=\"1234\", db=\"doenca_renal_cronica\")\n",
    "con.select_db('doenca_renal_cronica')\n",
    "cursor = con.cursor()  \n",
    "cursor.connection.autocommit(True)\n",
    "# csv\n",
    "#esse pacientes_tfg será para inserir os id ds pacientes que tem  tfg, separar por exame e pegar o valor recalculado \n",
    "pacientes_tfg= pd.read_csv('tfg/Dados2010-2014DesfechoFasesETC2_TFG - Dados2010-2014DesfechoFasesETC2.csv')\n",
    "pacientes_tfg = pacientes_tfg.replace(np.nan, '0')"
   ]
  },
  {
   "cell_type": "code",
   "execution_count": 11,
   "metadata": {},
   "outputs": [],
   "source": [
    "dados_consulta = pd.read_sql('SELECT * FROM doenca_renal_cronica.dados_consulta',con=con)\n",
    "cidade = pd.read_sql('SELECT * FROM doenca_renal_cronica.cidade',con=con)\n",
    "ubs = pd.read_sql('SELECT * FROM doenca_renal_cronica.ubs',con=con)\n",
    "aval_funcao_renal = pd.read_sql('SELECT * FROM doenca_renal_cronica.aval_funcao_renal',con=con)\n",
    "consulta_has = pd.read_sql('SELECT * FROM doenca_renal_cronica.consulta_has',con=con)\n",
    "consulta_drc = pd.read_sql('SELECT * FROM doenca_renal_cronica.consulta_drc',con=con)\n",
    "consulta_dm = pd.read_sql('SELECT * FROM doenca_renal_cronica.consulta_dm',con=con)\n",
    "calculo_tfg = pd.read_sql('SELECT * FROM doenca_renal_cronica.calculo_tfg',con=con)\n",
    "preparacao_trs = pd.read_sql('SELECT * FROM doenca_renal_cronica.preparacao_trs',con=con)\n",
    "raca = pd.read_sql('SELECT * FROM doenca_renal_cronica.raca',con=con)\n",
    "instrucao = pd.read_sql('SELECT * FROM doenca_renal_cronica.instrucao',con=con)\n",
    "paciente = pd.read_sql('SELECT * FROM doenca_renal_cronica.paciente',con=con)\n",
    "exame_fisico = pd.read_sql('SELECT * FROM doenca_renal_cronica.exame_fisico',con=con)\n",
    "avaliacao_tratamento = pd.read_sql('SELECT * FROM doenca_renal_cronica.avaliacao_tratamento',con=con)\n",
    "medicamento = pd.read_sql('SELECT * FROM doenca_renal_cronica.medicamento',con=con)\n",
    "complicacao_funcao_renal = pd.read_sql('SELECT * FROM doenca_renal_cronica.complicacao_funcao_renal',con=con)\n",
    "\n",
    "#dicionario com todas tabelas\n",
    "# dic = {'dados_consulta':dados_consulta,'cidade':cidade,'ubs':ubs,'aval_funcao_renal':aval_funcao_renal,\n",
    "#        'consulta_has':consulta_has,'consulta_drc':consulta_drc,'consulta_dm':consulta_dm,'calculo_tfg':calculo_tfg,\n",
    "#        'preparacao_trs':preparacao_trs,'raca':raca,'instrucao':instrucao,'paciente':paciente,'exame_fisico':exame_fisico,\n",
    "#        'avaliacao_tratamento':avaliacao_tratamento,'medicamento':medicamento,'complicacao_funcao_renal':complicacao_funcao_renal\n",
    "#       }\n",
    "dic = {'dados_consulta':dados_consulta,'aval_funcao_renal':aval_funcao_renal,\n",
    "       'calculo_tfg':calculo_tfg,'preparacao_trs':preparacao_trs,'paciente':paciente,'exame_fisico':exame_fisico,\n",
    "       'avaliacao_tratamento':avaliacao_tratamento,'medicamento':medicamento,'complicacao_funcao_renal':complicacao_funcao_renal\n",
    "      }\n",
    "dic['paciente']['sexo'] = dic['paciente']['sexo'].replace(['Feminino','Masculino'],[0,1])\n",
    "dic['exame_fisico']['tabagismo'] = dic['exame_fisico']['tabagismo'].replace(['Ex','Sim'],[0,1])\n",
    "dic['paciente'].drop(columns = ['renda_sm','renda_familiar_sm'])\n",
    "dic['paciente'].drop(columns = ['tamanho_familia'])\n",
    "dic['calculo_tfg']['tfg_1_2011'] = pacientes_tfg['EQ'].replace(',','.')\n",
    "dic['calculo_tfg']['tfg_2_2011'] = pacientes_tfg['EQ.1'].replace(',','.')\n",
    "dic['calculo_tfg']['tfg_1_2012'] = pacientes_tfg['EQ.2'].replace(',','.')\n",
    "dic['calculo_tfg']['tfg_2_2012'] = pacientes_tfg['EQ.3'].replace(',','.')\n",
    "dic['calculo_tfg']['tfg_1_2013'] = pacientes_tfg['EQ.4'].replace(',','.')\n",
    "dic['calculo_tfg']['tfg_2_2013'] = pacientes_tfg['EQ.5'].replace(',','.')\n",
    "dic['calculo_tfg']['tfg_1_2014'] = pacientes_tfg['EQ.6'].replace(',','.')\n",
    "dic['calculo_tfg']['tfg_2_2014'] = pacientes_tfg['EQ.7'].replace(',','.')"
   ]
  },
  {
   "cell_type": "code",
   "execution_count": 12,
   "metadata": {},
   "outputs": [
    {
     "name": "stderr",
     "output_type": "stream",
     "text": [
      "/home/gabic9814/anaconda3/lib/python3.7/site-packages/ipykernel_launcher.py:10: SettingWithCopyWarning: \n",
      "A value is trying to be set on a copy of a slice from a DataFrame\n",
      "\n",
      "See the caveats in the documentation: http://pandas.pydata.org/pandas-docs/stable/indexing.html#indexing-view-versus-copy\n",
      "  # Remove the CWD from sys.path while we load stuff.\n"
     ]
    }
   ],
   "source": [
    "correto={}\n",
    "meses = ['jan','fev','mar','abr','mai','jun','jul','ago','set','out','nov','dez']\n",
    "for ind in range(len(dic['aval_funcao_renal']['id_afr'])):\n",
    "    if dic['paciente']['data_nascimento'][ind]!='0.0':\n",
    "        data_nascimento = dic['paciente']['data_nascimento'][ind].split('/')\n",
    "        for i in range(len(meses)):\n",
    "            if meses[i]==data_nascimento[1]:\n",
    "                tam = len(meses[0:i])\n",
    "        correto = str(1900+int(data_nascimento[2]))+'-'+str(tam+1)+'-'+data_nascimento[0]\n",
    "        dic['paciente']['data_nascimento'][ind] = pd.to_datetime(correto)"
   ]
  },
  {
   "cell_type": "code",
   "execution_count": 13,
   "metadata": {},
   "outputs": [],
   "source": [
    "#substituindo os valores para Nan \n",
    "for tabela in dic:\n",
    "    for coluna in dic[tabela].keys():\n",
    "        dic[tabela][coluna]=dic[tabela][coluna].replace([0,'0','0.0',''], np.nan)"
   ]
  },
  {
   "cell_type": "code",
   "execution_count": 14,
   "metadata": {},
   "outputs": [],
   "source": [
    "for tabela in dic:\n",
    "    for coluna in dic[tabela].keys():\n",
    "        i_split = coluna.split('_')\n",
    "        if i_split[0]=='id'and i_split[1]!='original':\n",
    "            dic[tabela]=dic[tabela].drop(columns=[coluna], errors='ignore')\n",
    "        if i_split[0]=='dt':\n",
    "            dic[tabela]=dic[tabela].drop(columns=[coluna], errors='ignore')\n",
    "        if i_split[0]=='total':\n",
    "            dic[tabela]=dic[tabela].drop(columns=[coluna], errors='ignore')\n",
    "        if i_split[0]=='data':\n",
    "            dic[tabela]=dic[tabela].drop(columns=[coluna], errors='ignore')"
   ]
  },
  {
   "cell_type": "code",
   "execution_count": 15,
   "metadata": {},
   "outputs": [],
   "source": [
    "#passand str para  int ds estagios\n",
    "dic['dados_consulta']['estagioI']= dic['dados_consulta']['estagioI'].replace('1',1)\n",
    "dic['dados_consulta']['estagioI']= dic['dados_consulta']['estagioI'].replace('2',2)\n",
    "dic['dados_consulta']['estagioI']= dic['dados_consulta']['estagioI'].replace('3a',31)\n",
    "dic['dados_consulta']['estagioI']= dic['dados_consulta']['estagioI'].replace('3b',32)\n",
    "dic['dados_consulta']['estagioI']= dic['dados_consulta']['estagioI'].replace('4',4)\n",
    "dic['dados_consulta']['estagioI']= dic['dados_consulta']['estagioI'].replace('5',5)\n",
    "\n",
    "dic['dados_consulta']['estagioF']= dic['dados_consulta']['estagioF'].replace('1',1)\n",
    "dic['dados_consulta']['estagioF']= dic['dados_consulta']['estagioF'].replace('2',2)\n",
    "dic['dados_consulta']['estagioF']= dic['dados_consulta']['estagioF'].replace('3a',31)\n",
    "dic['dados_consulta']['estagioF']= dic['dados_consulta']['estagioF'].replace('3b',32)\n",
    "dic['dados_consulta']['estagioF']= dic['dados_consulta']['estagioF'].replace('4',4)\n",
    "dic['dados_consulta']['estagioF']= dic['dados_consulta']['estagioF'].replace('5',5)"
   ]
  },
  {
   "cell_type": "code",
   "execution_count": 17,
   "metadata": {},
   "outputs": [],
   "source": [
    "dicionario = {}\n",
    "dicionario['eu'] = [1]"
   ]
  },
  {
   "cell_type": "code",
   "execution_count": null,
   "metadata": {},
   "outputs": [],
   "source": [
    "# inserir nos dicionários\n",
    "# id_tfg = []\n",
    "tfg_1_2011 ={}\n",
    "tfg_2_2011 ={}\n",
    "tfg_1_2012 ={}\n",
    "tfg_2_2012 ={}\n",
    "tfg_1_2013 ={}\n",
    "tfg_2_2013 ={}\n",
    "tfg_1_2014 ={}\n",
    "tfg_2_2014 ={}\n",
    "for id_tfg in range(len(dic['paciente']['id_original'])):\n",
    "    if dic['calculo_tfg']['tfg_1_2011'][id_tfg]!= np.nan:\n",
    "        for tabela in dic.keys():\n",
    "            for coluna in dic[tabela].keys():\n",
    "                tfg_1_2011[coluna]\n",
    "        "
   ]
  }
 ],
 "metadata": {
  "kernelspec": {
   "display_name": "Python 3",
   "language": "python",
   "name": "python3"
  },
  "language_info": {
   "codemirror_mode": {
    "name": "ipython",
    "version": 3
   },
   "file_extension": ".py",
   "mimetype": "text/x-python",
   "name": "python",
   "nbconvert_exporter": "python",
   "pygments_lexer": "ipython3",
   "version": "3.7.3"
  }
 },
 "nbformat": 4,
 "nbformat_minor": 2
}
