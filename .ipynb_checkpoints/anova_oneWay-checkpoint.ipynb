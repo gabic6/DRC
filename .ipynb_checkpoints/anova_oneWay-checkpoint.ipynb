{
 "cells": [
  {
   "cell_type": "code",
   "execution_count": 10,
   "metadata": {},
   "outputs": [],
   "source": [
    "import pymysql\n",
    "import pandas as pd\n",
    "import numpy as np\n",
    "import seaborn as sns\n",
    "import matplotlib.pyplot as plt\n",
    "\n",
    "import scipy.stats as stats\n",
    "import statsmodels.api as sm\n",
    "from statsmodels.formula.api import ols"
   ]
  },
  {
   "cell_type": "code",
   "execution_count": 11,
   "metadata": {},
   "outputs": [],
   "source": [
    "con = pymysql.connect(host=\"localhost\", user=\"gabic\", passwd=\"1234\", db=\"doenca_renal_cronica\")\n",
    "con.select_db('doenca_renal_cronica')\n",
    "cursor = con.cursor()  \n",
    "cursor.connection.autocommit(True)"
   ]
  },
  {
   "cell_type": "code",
   "execution_count": 12,
   "metadata": {},
   "outputs": [],
   "source": [
    "#criando os dataframes por tabela \n",
    "dados_consulta = pd.read_sql('SELECT * FROM doenca_renal_cronica.dados_consulta',con=con)\n",
    "cidade = pd.read_sql('SELECT * FROM doenca_renal_cronica.cidade',con=con)\n",
    "ubs = pd.read_sql('SELECT * FROM doenca_renal_cronica.ubs',con=con)\n",
    "aval_funcao_renal = pd.read_sql('SELECT * FROM doenca_renal_cronica.aval_funcao_renal',con=con)\n",
    "consulta_has = pd.read_sql('SELECT * FROM doenca_renal_cronica.consulta_has',con=con)\n",
    "consulta_drc = pd.read_sql('SELECT * FROM doenca_renal_cronica.consulta_drc',con=con)\n",
    "consulta_dm = pd.read_sql('SELECT * FROM doenca_renal_cronica.consulta_dm',con=con)\n",
    "calculo_tfg = pd.read_sql('SELECT * FROM doenca_renal_cronica.calculo_tfg',con=con)\n",
    "preparacao_trs = pd.read_sql('SELECT * FROM doenca_renal_cronica.preparacao_trs',con=con)\n",
    "raca = pd.read_sql('SELECT * FROM doenca_renal_cronica.raca',con=con)\n",
    "instrucao = pd.read_sql('SELECT * FROM doenca_renal_cronica.instrucao',con=con)\n",
    "paciente = pd.read_sql('SELECT * FROM doenca_renal_cronica.paciente',con=con)\n",
    "exame_fisico = pd.read_sql('SELECT * FROM doenca_renal_cronica.exame_fisico',con=con)\n",
    "avaliacao_tratamento = pd.read_sql('SELECT * FROM doenca_renal_cronica.avaliacao_tratamento',con=con)\n",
    "medicamento = pd.read_sql('SELECT * FROM doenca_renal_cronica.medicamento',con=con)\n",
    "complicacao_funcao_renal = pd.read_sql('SELECT * FROM doenca_renal_cronica.complicacao_funcao_renal',con=con)\n",
    "\n",
    "#dicionario com todas tabelas\n",
    "dic = {'dados_consulta':dados_consulta,'cidade':cidade,'ubs':ubs,'aval_funcao_renal':aval_funcao_renal,\n",
    "       'consulta_has':consulta_has,'consulta_drc':consulta_drc,'consulta_dm':consulta_dm,'calculo_tfg':calculo_tfg,\n",
    "       'preparacao_trs':preparacao_trs,'raca':raca,'instrucao':instrucao,'paciente':paciente,'exame_fisico':exame_fisico,\n",
    "       'avaliacao_tratamento':avaliacao_tratamento,'medicamento':medicamento,'complicacao_funcao_renal':complicacao_funcao_renal\n",
    "      }"
   ]
  },
  {
   "cell_type": "code",
   "execution_count": 13,
   "metadata": {},
   "outputs": [],
   "source": [
    "#separando apenas as colunas com números\n",
    "\n",
    "df_num_dados_consulta = dados_consulta.select_dtypes(include = ['float64', 'int64'])\n",
    "df_num_cidade = cidade.select_dtypes(include = ['float64', 'int64'])\n",
    "df_num_ubs = ubs.select_dtypes(include = ['float64', 'int64'])\n",
    "df_num_aval_funcao_renal = aval_funcao_renal.select_dtypes(include = ['float64', 'int64'])\n",
    "df_num_consulta_has = consulta_has.select_dtypes(include = ['float64', 'int64'])\n",
    "df_num_consulta_drc = consulta_drc.select_dtypes(include = ['float64', 'int64'])\n",
    "df_num_consulta_dm = consulta_dm.select_dtypes(include = ['float64', 'int64'])\n",
    "df_num_calculo_tfg = calculo_tfg.select_dtypes(include = ['float64', 'int64'])\n",
    "df_num_preparacao_trs = preparacao_trs.select_dtypes(include = ['float64', 'int64'])\n",
    "df_num_raca = raca.select_dtypes(include = ['float64', 'int64'])\n",
    "df_num_instrucao = instrucao.select_dtypes(include = ['float64', 'int64'])\n",
    "df_num_paciente = paciente.select_dtypes(include = ['float64', 'int64'])\n",
    "df_num_exame_fisico = exame_fisico.select_dtypes(include = ['float64', 'int64'])\n",
    "df_num_avaliacao_tratamento = avaliacao_tratamento.select_dtypes(include = ['float64', 'int64'])\n",
    "df_num_medicamento = medicamento.select_dtypes(include = ['float64', 'int64'])\n",
    "df_num_complicacao_funcao_renal = complicacao_funcao_renal.select_dtypes(include = ['float64', 'int64'])\n",
    "\n",
    "dic_num = {'dados_consulta':df_num_dados_consulta,'cidade':df_num_cidade,'ubs':df_num_ubs,'afr':df_num_aval_funcao_renal,\n",
    "       'has':df_num_consulta_has,'drc':df_num_consulta_drc,'dm':df_num_consulta_dm,'calculo_tfg':df_num_calculo_tfg,\n",
    "       'preparacao_trs':df_num_preparacao_trs,'raca':df_num_raca,'instrucao':df_num_instrucao,'paciente':df_num_paciente,'exame_fisico':df_num_exame_fisico,\n",
    "       'aval_tratamento':df_num_avaliacao_tratamento,'medicamento':df_num_medicamento,'cfr':df_num_complicacao_funcao_renal\n",
    "      }\n",
    "\n",
    "for i in dic_num:\n",
    "    dic_num[i]=dic_num[i].drop(columns=['id_'+i])"
   ]
  },
  {
   "cell_type": "code",
   "execution_count": 14,
   "metadata": {},
   "outputs": [],
   "source": [
    "##Retirando os dados inexistentes, ou seja, ==0\n",
    "##criar um dicionario com as colunas sem valor nulo e com os nomes originais do df\n",
    "##depois transformar este em um dataFrame para poder utilizar os modelos estatisticos\n",
    "# semZero_tri = dic_num['cfr']['triglicerides_inicial'].drop(dic_num['cfr']!= 0.0, columns = )  \n",
    "# semZero_tri\n",
    "triglicerides_inicial_snulo = dic_num['cfr']['triglicerides_inicial']\n",
    "triglicerides_inicial_snulo = triglicerides_inicial_snulo [triglicerides_inicial_snulo.values != 0.0]\n",
    "\n",
    "glicemia_jejum_inicial_snulo = dic_num['cfr']['glicemia_jejum_inicial']\n",
    "glicemia_jejum_inicial_snulo = glicemia_jejum_inicial_snulo[glicemia_jejum_inicial_snulo != 0.0]\n",
    "\n",
    "colest_total_inicial_snulo = dic_num['cfr']['colest_total_inicial']\n",
    "colest_total_inicial_snulo = colest_total_inicial_snulo[colest_total_inicial_snulo != 0.0]\n",
    "\n",
    "triglicerides_final_snulo = dic_num['cfr']['triglicerides_final']\n",
    "triglicerides_final_snulo = triglicerides_final_snulo [triglicerides_final_snulo!= 0.0]\n",
    "\n",
    "glicemia_jejum_final_snulo = dic_num['cfr']['glicemia_jejum_final']\n",
    "glicemia_jejum_final_snulo = glicemia_jejum_final_snulo[glicemia_jejum_final_snulo != 0.0]\n",
    "\n",
    "colest_total_final_snulo = dic_num['cfr']['colest_total_final']\n",
    "colest_total_final_snulo = colest_total_final_snulo[colest_total_final_snulo != 0.0]\n",
    "\n",
    "dict_snulo = {'triglicerides_inicial': triglicerides_inicial_snulo, \n",
    "             'glicemia_jejum_inicial':glicemia_jejum_inicial_snulo,\n",
    "             'colest_total_inicial':colest_total_inicial_snulo,\n",
    "             'triglicerides_final': triglicerides_final_snulo, \n",
    "             'glicemia_jejum_final':glicemia_jejum_final_snulo,\n",
    "             'colest_total_final':colest_total_final_snulo          \n",
    "            }\n",
    "df_snulo = pd.DataFrame(dict_snulo)"
   ]
  },
  {
   "cell_type": "code",
   "execution_count": 6,
   "metadata": {
    "scrolled": false
   },
   "outputs": [],
   "source": [
    "# results =[]\n",
    "\n",
    "    \n",
    "        \n",
    "# results = ols('triglicerides_inicial ~ triglicerides_inicial + glicemia_jejum_inicial + colest_total_inicial', \n",
    "#               data=dic_num['cfr']).fit()\n",
    "# results2 = ols('glicemia_jejum_inicial ~ triglicerides_inicial + glicemia_jejum_inicial + colest_total_inicial', \n",
    "#               data=dic_num['cfr']).fit()\n",
    "# results3 = ols('colest_total_inicial~ triglicerides_inicial + glicemia_jejum_inicial + colest_total_inicial', \n",
    "#               data=dic_num['cfr']).fit()\n",
    "# aov_table = sm.stats.anova_lm(results, typ=2)\n",
    "# aov_table2 = sm.stats.anova_lm(results2, typ=2)\n",
    "# aov_table3 = sm.stats.anova_lm(results3, typ=2)\n",
    "\n",
    "# print(aov_table)\n",
    "# print(aov_table2)\n",
    "# print(aov_table3)\n",
    "# print('\\n')\n"
   ]
  },
  {
   "cell_type": "code",
   "execution_count": 7,
   "metadata": {},
   "outputs": [],
   "source": [
    "##Fazer a conversão dos dados para que estejam nas mesmas unidades\n",
    "#todos eles já estão na mesma unidade"
   ]
  },
  {
   "cell_type": "markdown",
   "metadata": {},
   "source": [
    "# INICIAL"
   ]
  },
  {
   "cell_type": "code",
   "execution_count": 8,
   "metadata": {},
   "outputs": [
    {
     "ename": "SyntaxError",
     "evalue": "invalid syntax (<ipython-input-8-1d97e356c06e>, line 5)",
     "output_type": "error",
     "traceback": [
      "\u001b[0;36m  File \u001b[0;32m\"<ipython-input-8-1d97e356c06e>\"\u001b[0;36m, line \u001b[0;32m5\u001b[0m\n\u001b[0;31m    )d\u001b[0m\n\u001b[0m     ^\u001b[0m\n\u001b[0;31mSyntaxError\u001b[0m\u001b[0;31m:\u001b[0m invalid syntax\n"
     ]
    }
   ],
   "source": [
    "print('triglicerides_inicial')\n",
    "print('\\n')\n",
    "stats.f_oneway(df_snulo['triglicerides_inicial'][df_snulo['triglicerides_inicial'] == df_snulo['glicemia_jejum_inicial']]\n",
    "#              df_snulo['triglicerides_inicial'][df_snulo['triglicerides_inicial'] == df_snulo['colest_total_inicial']]\n",
    "              )"
   ]
  },
  {
   "cell_type": "code",
   "execution_count": null,
   "metadata": {},
   "outputs": [],
   "source": [
    "print('glicemia_jejum_inicial')\n",
    "print('\\n')\n",
    "stats.f_oneway(df_snulo['glicemia_jejum_inicial'] [df_snulo['glicemia_jejum_inicial'] == df_snulo['triglicerides_inicial']], \n",
    "             df_snulo['glicemia_jejum_inicial'][df_snulo['glicemia_jejum_inicial']== df_snulo['colest_total_inicial']])"
   ]
  },
  {
   "cell_type": "code",
   "execution_count": null,
   "metadata": {},
   "outputs": [],
   "source": [
    "print('colest_total_inicial')\n",
    "print('\\n')\n",
    "stats.f_oneway(df_snulo['colest_total_inicial'] [df_snulo['colest_total_inicial']== df_snulo['triglicerides_inicial']], \n",
    "             df_snulo['colest_total_inicial'][df_snulo['colest_total_inicial'] == df_snulo['glicemia_jejum_inicial']])"
   ]
  },
  {
   "cell_type": "markdown",
   "metadata": {},
   "source": [
    "# FINAL"
   ]
  },
  {
   "cell_type": "code",
   "execution_count": null,
   "metadata": {},
   "outputs": [],
   "source": [
    "print('triglicerides_final')\n",
    "print('\\n')\n",
    "stats.f_oneway(df_snulo['triglicerides_final'][df_snulo['triglicerides_final'] == df_snulo['glicemia_jejum_final']],\n",
    "             df_snulo['triglicerides_final'][df_snulo['triglicerides_final'] == df_snulo['colest_total_final']])"
   ]
  },
  {
   "cell_type": "code",
   "execution_count": null,
   "metadata": {},
   "outputs": [],
   "source": [
    "print('glicemia_jejum_final')\n",
    "print('\\n')\n",
    "stats.f_oneway(df_snulo['glicemia_jejum_final'] [df_snulo['glicemia_jejum_final'] == df_snulo['triglicerides_final']], \n",
    "             df_snulo['glicemia_jejum_final'][df_snulo['glicemia_jejum_final']== df_snulo['colest_total_final']])"
   ]
  },
  {
   "cell_type": "code",
   "execution_count": null,
   "metadata": {},
   "outputs": [],
   "source": [
    "print('colest_total_final')\n",
    "print('\\n')\n",
    "stats.f_oneway(df_snulo['colest_total_final'] [df_snulo['colest_total_final']== df_snulo['triglicerides_final']], \n",
    "             df_snulo['colest_total_final'][df_snulo['colest_total_final'] == df_snulo['glicemia_jejum_final']])"
   ]
  },
  {
   "cell_type": "markdown",
   "metadata": {},
   "source": [
    "# Levene Test"
   ]
  },
  {
   "cell_type": "code",
   "execution_count": null,
   "metadata": {},
   "outputs": [],
   "source": [
    "stats.levene(df_snulo['triglicerides_inicial'][df_snulo['triglicerides_inicial'] == df_snulo['glicemia_jejum_inicial']],\n",
    "             df_snulo['triglicerides_inicial'][df_snulo['triglicerides_inicial'] == df_snulo['colest_total_inicial']],\n",
    "             )"
   ]
  },
  {
   "cell_type": "markdown",
   "metadata": {},
   "source": [
    "# TESTANDO NORMALIDADE"
   ]
  },
  {
   "cell_type": "code",
   "execution_count": 22,
   "metadata": {},
   "outputs": [],
   "source": [
    "results = ols('triglicerides_inicial ~ triglicerides_final', \n",
    "               data=df_snulo).fit()\n",
    "results1 = ols('glicemia_jejum_inicial ~ glicemia_jejum_final ', \n",
    "               data=df_snulo).fit()\n",
    "results2 = ols('colest_total_inicial ~ colest_total_final', \n",
    "               data=df_snulo).fit()"
   ]
  },
  {
   "cell_type": "code",
   "execution_count": 23,
   "metadata": {},
   "outputs": [
    {
     "name": "stdout",
     "output_type": "stream",
     "text": [
      "Statistics=0.679, p=0.000\n",
      "Sample does not look Gaussian (reject H0)\n"
     ]
    }
   ],
   "source": [
    "stat, p = stats.shapiro(results.resid)\n",
    "print('Statistics=%.3f, p=%.3f' % (stat, p))\n",
    "alpha = 0.05\n",
    "if p > alpha:\n",
    "\tprint('Sample looks Gaussian (fail to reject H0)')\n",
    "else:\n",
    "\tprint('Sample does not look Gaussian (reject H0)')"
   ]
  },
  {
   "cell_type": "code",
   "execution_count": 24,
   "metadata": {},
   "outputs": [
    {
     "name": "stdout",
     "output_type": "stream",
     "text": [
      "Statistics=0.803, p=0.000\n",
      "Sample does not look Gaussian (reject H0)\n"
     ]
    }
   ],
   "source": [
    "stat, p = stats.shapiro(results1.resid)\n",
    "print('Statistics=%.3f, p=%.3f' % (stat, p))\n",
    "alpha = 0.05\n",
    "if p > alpha:\n",
    "\tprint('Sample looks Gaussian (fail to reject H0)')\n",
    "else:\n",
    "\tprint('Sample does not look Gaussian (reject H0)')"
   ]
  },
  {
   "cell_type": "code",
   "execution_count": 25,
   "metadata": {},
   "outputs": [
    {
     "name": "stdout",
     "output_type": "stream",
     "text": [
      "Statistics=0.899, p=0.000\n",
      "Sample does not look Gaussian (reject H0)\n"
     ]
    }
   ],
   "source": [
    "stat, p = stats.shapiro(results2.resid)\n",
    "print('Statistics=%.3f, p=%.3f' % (stat, p))\n",
    "alpha = 0.05\n",
    "if p > alpha:\n",
    "\tprint('Sample looks Gaussian (fail to reject H0)')\n",
    "else:\n",
    "\tprint('Sample does not look Gaussian (reject H0)')"
   ]
  },
  {
   "cell_type": "markdown",
   "metadata": {},
   "source": [
    "# Distribuição dos dados"
   ]
  },
  {
   "cell_type": "code",
   "execution_count": 26,
   "metadata": {},
   "outputs": [],
   "source": [
    "sns.set(color_codes=True)"
   ]
  },
  {
   "cell_type": "code",
   "execution_count": 27,
   "metadata": {},
   "outputs": [
    {
     "data": {
      "image/png": "[encoded data removed]",
      "text/plain": [
       "<Figure size 432x288 with 1 Axes>"
      ]
     },
     "metadata": {},
     "output_type": "display_data"
    }
   ],
   "source": [
    "inicial = stats.shapiro(results.resid)\n",
    "plt.title('triglicerides')\n",
    "sns.distplot(inicial)\n",
    "plt.show()"
   ]
  },
  {
   "cell_type": "code",
   "execution_count": 27,
   "metadata": {},
   "outputs": [
    {
     "data": {
      "image/png": "[encoded data removed]",
      "text/plain": [
       "<Figure size 432x288 with 1 Axes>"
      ]
     },
     "metadata": {},
     "output_type": "display_data"
    }
   ],
   "source": [
    "x = stats.shapiro(results1.resid)\n",
    "plt.title('glicemia_jejum')\n",
    "sns.distplot(x)\n",
    "plt.show()"
   ]
  },
  {
   "cell_type": "code",
   "execution_count": 28,
   "metadata": {},
   "outputs": [
    {
     "data": {
      "image/png": "[encoded data removed]",
      "text/plain": [
       "<Figure size 432x288 with 1 Axes>"
      ]
     },
     "metadata": {},
     "output_type": "display_data"
    }
   ],
   "source": [
    "inicial = stats.shapiro(results2.resid)\n",
    "plt.title('colest_total')\n",
    "sns.distplot(inicial)\n",
    "plt.show()"
   ]
  },
  {
   "cell_type": "code",
   "execution_count": null,
   "metadata": {},
   "outputs": [],
   "source": []
  }
 ],
 "metadata": {
  "kernelspec": {
   "display_name": "Python 3",
   "language": "python",
   "name": "python3"
  },
  "language_info": {
   "codemirror_mode": {
    "name": "ipython",
    "version": 3
   },
   "file_extension": ".py",
   "mimetype": "text/x-python",
   "name": "python",
   "nbconvert_exporter": "python",
   "pygments_lexer": "ipython3",
   "version": "3.7.3"
  }
 },
 "nbformat": 4,
 "nbformat_minor": 2
}
