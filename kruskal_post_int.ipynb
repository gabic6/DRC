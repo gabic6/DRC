{
 "cells": [
  {
   "cell_type": "code",
   "execution_count": 1,
   "metadata": {},
   "outputs": [],
   "source": [
    "import pymysql\n",
    "import pandas as pd\n",
    "import numpy as np\n",
    "import seaborn as sns\n",
    "import matplotlib.pyplot as plt\n",
    "import scikit_posthocs as sp\n",
    "import scipy.stats as stats\n",
    "import csv\n",
    "\n",
    "from statsmodels.stats.multicomp import MultiComparison"
   ]
  },
  {
   "cell_type": "code",
   "execution_count": 2,
   "metadata": {},
   "outputs": [],
   "source": [
    "con = pymysql.connect(host=\"localhost\", user=\"gabic\", passwd=\"1234\", db=\"doenca_renal_cronica\")\n",
    "con.select_db('doenca_renal_cronica')\n",
    "cursor = con.cursor()  \n",
    "cursor.connection.autocommit(True)"
   ]
  },
  {
   "cell_type": "code",
   "execution_count": 3,
   "metadata": {},
   "outputs": [],
   "source": [
    "#criando os dataframes por tabela \n",
    "dados_consulta = pd.read_sql('SELECT * FROM doenca_renal_cronica.dados_consulta',con=con)\n",
    "cidade = pd.read_sql('SELECT * FROM doenca_renal_cronica.cidade',con=con)\n",
    "ubs = pd.read_sql('SELECT * FROM doenca_renal_cronica.ubs',con=con)\n",
    "aval_funcao_renal = pd.read_sql('SELECT * FROM doenca_renal_cronica.aval_funcao_renal',con=con)\n",
    "consulta_has = pd.read_sql('SELECT * FROM doenca_renal_cronica.consulta_has',con=con)\n",
    "consulta_drc = pd.read_sql('SELECT * FROM doenca_renal_cronica.consulta_drc',con=con)\n",
    "consulta_dm = pd.read_sql('SELECT * FROM doenca_renal_cronica.consulta_dm',con=con)\n",
    "calculo_tfg = pd.read_sql('SELECT * FROM doenca_renal_cronica.calculo_tfg',con=con)\n",
    "preparacao_trs = pd.read_sql('SELECT * FROM doenca_renal_cronica.preparacao_trs',con=con)\n",
    "raca = pd.read_sql('SELECT * FROM doenca_renal_cronica.raca',con=con)\n",
    "instrucao = pd.read_sql('SELECT * FROM doenca_renal_cronica.instrucao',con=con)\n",
    "paciente = pd.read_sql('SELECT * FROM doenca_renal_cronica.paciente',con=con)\n",
    "exame_fisico = pd.read_sql('SELECT * FROM doenca_renal_cronica.exame_fisico',con=con)\n",
    "avaliacao_tratamento = pd.read_sql('SELECT * FROM doenca_renal_cronica.avaliacao_tratamento',con=con)\n",
    "medicamento = pd.read_sql('SELECT * FROM doenca_renal_cronica.medicamento',con=con)\n",
    "complicacao_funcao_renal = pd.read_sql('SELECT * FROM doenca_renal_cronica.complicacao_funcao_renal',con=con)\n",
    "\n",
    "#dicionario com todas tabelas\n",
    "dic = {'dados_consulta':dados_consulta,'cidade':cidade,'ubs':ubs,'aval_funcao_renal':aval_funcao_renal,\n",
    "       'consulta_has':consulta_has,'consulta_drc':consulta_drc,'consulta_dm':consulta_dm,'calculo_tfg':calculo_tfg,\n",
    "       'preparacao_trs':preparacao_trs,'raca':raca,'instrucao':instrucao,'paciente':paciente,'exame_fisico':exame_fisico,\n",
    "       'avaliacao_tratamento':avaliacao_tratamento,'medicamento':medicamento,'complicacao_funcao_renal':complicacao_funcao_renal\n",
    "      }"
   ]
  },
  {
   "cell_type": "code",
   "execution_count": 4,
   "metadata": {},
   "outputs": [],
   "source": [
    "#separando apenas as colunas com números\n",
    "\n",
    "df_num_dados_consulta = dados_consulta.select_dtypes(include = ['float64', 'int64'])\n",
    "df_num_cidade = cidade.select_dtypes(include = ['float64', 'int64'])\n",
    "df_num_ubs = ubs.select_dtypes(include = ['float64', 'int64'])\n",
    "df_num_aval_funcao_renal = aval_funcao_renal.select_dtypes(include = ['float64', 'int64'])\n",
    "df_num_consulta_has = consulta_has.select_dtypes(include = ['float64', 'int64'])\n",
    "df_num_consulta_drc = consulta_drc.select_dtypes(include = ['float64', 'int64'])\n",
    "df_num_consulta_dm = consulta_dm.select_dtypes(include = ['float64', 'int64'])\n",
    "df_num_calculo_tfg = calculo_tfg.select_dtypes(include = ['float64', 'int64'])\n",
    "df_num_preparacao_trs = preparacao_trs.select_dtypes(include = ['float64', 'int64'])\n",
    "df_num_raca = raca.select_dtypes(include = ['float64', 'int64'])\n",
    "df_num_instrucao = instrucao.select_dtypes(include = ['float64', 'int64'])\n",
    "df_num_paciente = paciente.select_dtypes(include = ['float64', 'int64'])\n",
    "df_num_exame_fisico = exame_fisico.select_dtypes(include = ['float64', 'int64'])\n",
    "df_num_avaliacao_tratamento = avaliacao_tratamento.select_dtypes(include = ['float64', 'int64'])\n",
    "df_num_medicamento = medicamento.select_dtypes(include = ['float64', 'int64'])\n",
    "df_num_complicacao_funcao_renal = complicacao_funcao_renal.select_dtypes(include = ['float64', 'int64'])\n",
    "\n",
    "dic_num = {'dados_consulta':df_num_dados_consulta,'cidade':df_num_cidade,'ubs':df_num_ubs,'afr':df_num_aval_funcao_renal,\n",
    "       'has':df_num_consulta_has,'drc':df_num_consulta_drc,'dm':df_num_consulta_dm,'calculo_tfg':df_num_calculo_tfg,\n",
    "       'preparacao_trs':df_num_preparacao_trs,'raca':df_num_raca,'instrucao':df_num_instrucao,'paciente':df_num_paciente,'exame_fisico':df_num_exame_fisico,\n",
    "       'aval_tratamento':df_num_avaliacao_tratamento,'medicamento':df_num_medicamento,'cfr':df_num_complicacao_funcao_renal\n",
    "      }\n",
    "\n",
    "for i in dic_num:\n",
    "    dic_num[i]=dic_num[i].drop(columns=['id_'+i])"
   ]
  },
  {
   "cell_type": "code",
   "execution_count": 5,
   "metadata": {},
   "outputs": [],
   "source": [
    "#separando em uma matriz as todas colunas sem 0\n",
    "triglicerides_inicial_snulo = dic_num['cfr']['triglicerides_inicial']\n",
    "triglicerides_inicial_snulo = triglicerides_inicial_snulo [triglicerides_inicial_snulo.values != 0.0]\n",
    "dic_snulo ={}\n",
    "for tabela in dic_num:\n",
    "    for coluna in dic_num[tabela]:\n",
    "        copia = dic_num[tabela][coluna]\n",
    "        copia= copia[copia.values != 0.0]\n",
    "        dic_snulo[coluna] = copia"
   ]
  },
  {
   "cell_type": "code",
   "execution_count": 7,
   "metadata": {},
   "outputs": [
    {
     "data": {
      "text/plain": [
       "148"
      ]
     },
     "execution_count": 7,
     "metadata": {},
     "output_type": "execute_result"
    }
   ],
   "source": [
    "len(dic_snulo.keys())"
   ]
  },
  {
   "cell_type": "code",
   "execution_count": 8,
   "metadata": {},
   "outputs": [
    {
     "data": {
      "text/plain": [
       "dict_keys(['tempoAcomp', 'total_consultas_drc', 'total_consultas_dm', 'total_consultas_has', 'id_cidade', 'id_afr', 'id_ubs', 'id_has', 'id_drc', 'id_dm', 'id_cfr', 'id_exame_fisico', 'id_calculo_tfg', 'id_preparacao_trs', 'id_medicamento', 'id_aval_tratamento', 'estagioI_alb', 'estagioF_alb', 'creatinina_inicial', 'creatinina_final', 'albumina_inicial', 'albumina_final', 'rel_alb_creat_uauc_inicial', 'rel_alb_creat_uauc_final', 'proteinuria24h_inicial', 'proteinuria24h_final', 'microAlbumi_inicial', 'microAlbumi_final', 'hematuria_inicial', 'hematuria_final', 'tshi_inicial', 'tshi_final', 'potassio_inicial', 'potassio_final', 'ureia_inicial', 'ureia_final', 'ureia24h_inicial', 'ureia24h_final', 'fosforo_inicial', 'fosforo_final', 'pth_intacto_inicial', 'pth_intacto_final', 'vitaminaD_inicial', 'vitaminaD_final', 'fosfatase_alc_inicial', 'fosfatase_alc_final', 'ck_inicial', 'ck_final', 'ecoae_inicial', 'ecoae_final', 'ecoao_inicial', 'ecoao_final', 'ecosiv_inicial', 'ecosiv_final', 'total_1_2011', 'total_2_2011', 'total_1_2012', 'total_2_2012', 'total_1_2013', 'total_2_2013', 'total_1_2014', 'total_2_2014', 'creatinina_1_2011', 'creatinina_2_2011', 'creatinina_1_2012', 'creatinina_2_2012', 'creatinina_1_2013', 'creatinina_2_2013', 'creatinina_1_2014', 'creatinina_2_2014', 'tfg_1_2011', 'tfg_2_2011', 'tfg_1_2012', 'tfg_2_2012', 'tfg_1_2013', 'tfg_2_2013', 'tfg_1_2014', 'tfg_2_2014', 'tgp_inicial', 'tgp_final', 'hemog_glicada_inicial', 'hemog_glicada_final', 'id_original', 'renda_sm', 'renda_familiar_sm', 'tamanho_familia', 'id_dados_consulta', 'id_raca', 'id_instrucao', 'peso_inicial', 'peso_final', 'altura', 'imc', 'pas_inicial', 'pad_inicial', 'pad_final', 'pas_final', 'classe_imc', 'sodio_urinario_inicial', 'sodio_serico_inicial', 'sodio_serico_final', 'sodio_urinario_final', 'ieca1', 'brat2', 'betabloq3', 'estatina9', 'aas8', 'diur4', 'biguadina6', 'sulfonura7', 'fibrato13', 'insulina', 'hemoglobina_inicial', 'hemoglobina_final', 'acido_urico_inicial', 'acido_urico_final', 'ferritina_inicial', 'ferritina_final', 'ferro_serico_inicial', 'ferro_serico_final', 'calcio_total_inicial', 'calcio_total_final', 'acido_folico_inicial', 'acido_folico_final', 'bilirrubina_inicial', 'bilirrubina_final', 'vitaminaB12_inicial', 'vitaminaB12_final', 'colest_hdl_inicial', 'colest_hdl_final', 'colest_ldl_inicial', 'colest_ldl_final', 'colest_total_inicial', 'colest_total_final', 'gama_glutamil_inicial', 'gama_glutamil_final', 'triglicerides_inicial', 'triglicerides_final', 'glicemia_jejum_inicial', 'glicemia_jejum_final', 'ind_sat_transf_inicial', 'ind_sat_transf_final', 'hbsag_inicial', 'hbsag_final', 'antihbs_inicial', 'antihbs_final', 'antihcv_inicial', 'antihcv_final'])"
      ]
     },
     "execution_count": 8,
     "metadata": {},
     "output_type": "execute_result"
    }
   ],
   "source": [
    "args = dic_snulo.values()\n",
    "type(args)\n",
    "dic_snulo.keys()"
   ]
  },
  {
   "cell_type": "markdown",
   "metadata": {},
   "source": [
    "# Kruskal - Wallis "
   ]
  },
  {
   "cell_type": "code",
   "execution_count": 9,
   "metadata": {},
   "outputs": [
    {
     "name": "stdout",
     "output_type": "stream",
     "text": [
      "KruskalResult(statistic=414877.81102876045, pvalue=0.0)\n",
      "Same distribution (fail to reject H0)\n"
     ]
    }
   ],
   "source": [
    "p = stats.kruskal(*args)\n",
    "print(p)\n",
    "p = p.pvalue\n",
    "alpha = 0.05\n",
    "if p <= alpha:\n",
    "\tprint('Same distribution (fail to reject H0)')\n",
    "else:\n",
    "\tprint('Different distribution (reject H0)')   "
   ]
  },
  {
   "cell_type": "markdown",
   "metadata": {},
   "source": [
    "# Dunn Test"
   ]
  },
  {
   "cell_type": "code",
   "execution_count": 10,
   "metadata": {},
   "outputs": [],
   "source": [
    "dict_aux = {}\n",
    "cont = 1\n",
    "for key in dic_snulo.keys():\n",
    "    dict_aux[cont] = key\n",
    "    cont+=1"
   ]
  },
  {
   "cell_type": "code",
   "execution_count": 11,
   "metadata": {},
   "outputs": [],
   "source": [
    "# dict_aux[22]"
   ]
  },
  {
   "cell_type": "code",
   "execution_count": null,
   "metadata": {},
   "outputs": [],
   "source": [
    "plt"
   ]
  },
  {
   "cell_type": "code",
   "execution_count": 12,
   "metadata": {},
   "outputs": [
    {
     "data": {
      "image/png": "[encoded data removed]",
      "text/plain": [
       "<Figure size 288x288 with 1 Axes>"
      ]
     },
     "metadata": {
      "needs_background": "light"
     },
     "output_type": "display_data"
    }
   ],
   "source": [
    "test = [*args]\n",
    "df = sp.posthoc_dunn(test, p_adjust = 'holm')\n",
    "plt.matshow(df)\n",
    "df.to_csv(\"dunn_test.csv\")"
   ]
  },
  {
   "cell_type": "markdown",
   "metadata": {},
   "source": [
    "# TESTE "
   ]
  },
  {
   "cell_type": "code",
   "execution_count": 13,
   "metadata": {},
   "outputs": [],
   "source": [
    "# dic_snulo.keys()"
   ]
  },
  {
   "cell_type": "code",
   "execution_count": 19,
   "metadata": {},
   "outputs": [],
   "source": [
    "# aux = pd.DataFrame([dic_snulo['tempoAcomp'],dic_snulo['hemoglobina_inicial'],dic_snulo['diur4']])\n",
    "# tempoAcomp = dic_snulo['tempoAcomp']\n",
    "# hemoglobina = dic_snulo['hemoglobina_inicial']\n",
    "# diur4 = dic_snulo['diur4']\n",
    "# type(tempoAcomp)"
   ]
  },
  {
   "cell_type": "code",
   "execution_count": 18,
   "metadata": {},
   "outputs": [
    {
     "data": {
      "image/png": "[encoded data removed]",
      "text/plain": [
       "<Figure size 288x288 with 1 Axes>"
      ]
     },
     "metadata": {
      "needs_background": "light"
     },
     "output_type": "display_data"
    }
   ],
   "source": [
    "# test = [tempoAcomp,hemoglobina,diur4]\n",
    "# df = sp.posthoc_dunn(test, p_adjust = 'holm')\n",
    "# plt.matshow(df)\n",
    "# df.to_csv(\"test.csv\")"
   ]
  },
  {
   "cell_type": "code",
   "execution_count": 3,
   "metadata": {},
   "outputs": [],
   "source": [
    "# type(dic_snulo['tempoAcomp'])"
   ]
  },
  {
   "cell_type": "markdown",
   "metadata": {},
   "source": [
    "# Kruskal - Wallis "
   ]
  },
  {
   "cell_type": "code",
   "execution_count": 4,
   "metadata": {},
   "outputs": [],
   "source": [
    "# p = stats.kruskal(*aux)\n",
    "# print(p)\n",
    "# p = p.pvalue\n",
    "# alpha = 0.05\n",
    "# if p <= alpha:\n",
    "# \tprint('Same distribution (fail to reject H0)')\n",
    "# else:\n",
    "# \tprint('Different distribution (reject H0)')\n",
    "# # p = stats.kruskal(tempoAcomp,hemoglobina, diur4)\n",
    "# # print(p)\n",
    "# # p = p.pvalue\n",
    "# # alpha = 0.05\n",
    "# # if p <= alpha:\n",
    "# # \tprint('Same distribution (fail to reject H0)')\n",
    "# # else:\n",
    "# # \tprint('Different distribution (reject H0)')"
   ]
  },
  {
   "cell_type": "code",
   "execution_count": 5,
   "metadata": {},
   "outputs": [],
   "source": [
    "# print(*aux)"
   ]
  },
  {
   "cell_type": "code",
   "execution_count": null,
   "metadata": {},
   "outputs": [],
   "source": []
  }
 ],
 "metadata": {
  "kernelspec": {
   "display_name": "Python 3",
   "language": "python",
   "name": "python3"
  },
  "language_info": {
   "codemirror_mode": {
    "name": "ipython",
    "version": 3
   },
   "file_extension": ".py",
   "mimetype": "text/x-python",
   "name": "python",
   "nbconvert_exporter": "python",
   "pygments_lexer": "ipython3",
   "version": "3.7.3"
  }
 },
 "nbformat": 4,
 "nbformat_minor": 2
}
